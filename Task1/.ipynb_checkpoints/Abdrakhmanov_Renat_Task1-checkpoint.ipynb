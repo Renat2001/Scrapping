{
 "cells": [
  {
   "cell_type": "code",
   "execution_count": 393,
   "id": "170e8e31",
   "metadata": {},
   "outputs": [],
   "source": [
    "import requests\n",
    "from bs4 import BeautifulSoup\n",
    "from tqdm.notebook import tqdm\n",
    "import os\n",
    "from urllib.parse import quote_plus\n",
    "import pandas as pd"
   ]
  },
  {
   "cell_type": "code",
   "execution_count": 394,
   "id": "bb11f76e",
   "metadata": {},
   "outputs": [
    {
     "data": {
      "application/vnd.jupyter.widget-view+json": {
       "model_id": "13d458c56db34315a1e06ee26fc37f4a",
       "version_major": 2,
       "version_minor": 0
      },
      "text/plain": [
       "  0%|          | 0/7 [00:00<?, ?it/s]"
      ]
     },
     "metadata": {},
     "output_type": "display_data"
    },
    {
     "data": {
      "application/vnd.jupyter.widget-view+json": {
       "model_id": "c4359d34d7534085880fc5ffe18065a0",
       "version_major": 2,
       "version_minor": 0
      },
      "text/plain": [
       "  0%|          | 0/9 [00:00<?, ?it/s]"
      ]
     },
     "metadata": {},
     "output_type": "display_data"
    }
   ],
   "source": [
    "url = 'https://kingfisher.kz'\n",
    "req = requests.get(url)\n",
    "soup = BeautifulSoup(req.content, 'lxml')\n",
    "\n",
    "city_address_list = []\n",
    "product_list = []\n",
    "\n",
    "for product in tqdm(soup.find('ul', {'class':'topMenu'}).find_all('li',{'class':'dropmenu'})):\n",
    "    product_list.append(product.find('a')['href'][:(product.find('a')['href'][1:].find('/')+1)])\n",
    "\n",
    "for city in tqdm(soup.find('div', {'id':'popupSelCity'}).find_all('a', {'href': lambda n: n and 'city' in n})):\n",
    "    response = session.get('https://kingfisher.kz' + city['href'])\n",
    "    city_address_list.append(session.cookies.get_dict()['city_select'])"
   ]
  },
  {
   "cell_type": "code",
   "execution_count": 395,
   "id": "940ab3e2",
   "metadata": {},
   "outputs": [
    {
     "data": {
      "application/vnd.jupyter.widget-view+json": {
       "model_id": "17393697038e424fa3dbe76c55486a25",
       "version_major": 2,
       "version_minor": 0
      },
      "text/plain": [
       "  0%|          | 0/9 [00:00<?, ?it/s]"
      ]
     },
     "metadata": {},
     "output_type": "display_data"
    },
    {
     "data": {
      "application/vnd.jupyter.widget-view+json": {
       "model_id": "52290d3f12d144e987d12396bde973a4",
       "version_major": 2,
       "version_minor": 0
      },
      "text/plain": [
       "  0%|          | 0/7 [00:00<?, ?it/s]"
      ]
     },
     "metadata": {},
     "output_type": "display_data"
    },
    {
     "data": {
      "application/vnd.jupyter.widget-view+json": {
       "model_id": "4d3f7b91139a4a58841ea12276c1f7e6",
       "version_major": 2,
       "version_minor": 0
      },
      "text/plain": [
       "  0%|          | 0/7 [00:00<?, ?it/s]"
      ]
     },
     "metadata": {},
     "output_type": "display_data"
    },
    {
     "data": {
      "application/vnd.jupyter.widget-view+json": {
       "model_id": "ee4a4b654f574140b9c42ddc0f3dd069",
       "version_major": 2,
       "version_minor": 0
      },
      "text/plain": [
       "  0%|          | 0/7 [00:00<?, ?it/s]"
      ]
     },
     "metadata": {},
     "output_type": "display_data"
    },
    {
     "data": {
      "application/vnd.jupyter.widget-view+json": {
       "model_id": "fb71386aeedc4572868af1dac1483bcc",
       "version_major": 2,
       "version_minor": 0
      },
      "text/plain": [
       "  0%|          | 0/7 [00:00<?, ?it/s]"
      ]
     },
     "metadata": {},
     "output_type": "display_data"
    },
    {
     "data": {
      "application/vnd.jupyter.widget-view+json": {
       "model_id": "75231a104b274c26bf68a9f429ec63e4",
       "version_major": 2,
       "version_minor": 0
      },
      "text/plain": [
       "  0%|          | 0/7 [00:00<?, ?it/s]"
      ]
     },
     "metadata": {},
     "output_type": "display_data"
    },
    {
     "data": {
      "application/vnd.jupyter.widget-view+json": {
       "model_id": "29c06d4392dd4034b727cff19443651d",
       "version_major": 2,
       "version_minor": 0
      },
      "text/plain": [
       "  0%|          | 0/7 [00:00<?, ?it/s]"
      ]
     },
     "metadata": {},
     "output_type": "display_data"
    },
    {
     "data": {
      "application/vnd.jupyter.widget-view+json": {
       "model_id": "1d8f25756bbe4a58af06c28e6c1865e8",
       "version_major": 2,
       "version_minor": 0
      },
      "text/plain": [
       "  0%|          | 0/7 [00:00<?, ?it/s]"
      ]
     },
     "metadata": {},
     "output_type": "display_data"
    },
    {
     "data": {
      "application/vnd.jupyter.widget-view+json": {
       "model_id": "54012407392e45399f029b71372681b4",
       "version_major": 2,
       "version_minor": 0
      },
      "text/plain": [
       "  0%|          | 0/7 [00:00<?, ?it/s]"
      ]
     },
     "metadata": {},
     "output_type": "display_data"
    },
    {
     "data": {
      "application/vnd.jupyter.widget-view+json": {
       "model_id": "26517d1e156a4012b7bf96ef8505274c",
       "version_major": 2,
       "version_minor": 0
      },
      "text/plain": [
       "  0%|          | 0/7 [00:00<?, ?it/s]"
      ]
     },
     "metadata": {},
     "output_type": "display_data"
    }
   ],
   "source": [
    "product_titles = []\n",
    "product_categories = []\n",
    "product_prices = []\n",
    "product_cities = []\n",
    "product_availabilities = []\n",
    "\n",
    "for city_address in tqdm(city_address_list):\n",
    "    for product in tqdm(product_list):\n",
    "        url = 'https://kingfisher.kz' + product\n",
    "        page = requests.post(url, cookies={'city_select': city_address})\n",
    "        soup = BeautifulSoup(page.text, 'lxml')\n",
    "        \n",
    "        for item in soup.find_all('div', {'class':'goodsBlock'}):\n",
    "            product_titles.append(item.find('span', {'class':'wrapperPad'}).find('a', {'class':'title'}).find('span').get_text().strip())\n",
    "            product_categories.append(soup.find('div', {'class':'Goods goodslist padSpace'}).find('h1', {'class':'title'}).get_text().strip())\n",
    "            product_prices.append(item.find('span', {'class':'wrapperPad'}).find('span', {'class':'price'}).find('span', {'class':'new'}).get_text().strip())\n",
    "            product_cities.append(soup.find('div', {'class':'wrapperLeft'}).find('span').get_text())\n",
    "            try:\n",
    "                product_availabilities.append(item.find('span', {'class':'wrapperPad'}).find('span', {'class':'wrapperNone'}).find('span', {'class':'None'}).get_text().strip())\n",
    "            except:\n",
    "                product_availabilities.append('В наличии')\n",
    "            \n",
    "        \n",
    "        "
   ]
  },
  {
   "cell_type": "code",
   "execution_count": 388,
   "id": "9b14711d",
   "metadata": {},
   "outputs": [],
   "source": [
    "result = list(zip(product_titles, product_categories, product_prices, product_cities, product_availabilities))"
   ]
  },
  {
   "cell_type": "code",
   "execution_count": 389,
   "id": "a4485228",
   "metadata": {},
   "outputs": [],
   "source": [
    "df = pd.DataFrame(result, columns = ['Title', 'Category', 'Price', 'City', 'Availability'])"
   ]
  },
  {
   "cell_type": "code",
   "execution_count": 392,
   "id": "800faaea",
   "metadata": {},
   "outputs": [
    {
     "data": {
      "text/html": [
       "<div>\n",
       "<style scoped>\n",
       "    .dataframe tbody tr th:only-of-type {\n",
       "        vertical-align: middle;\n",
       "    }\n",
       "\n",
       "    .dataframe tbody tr th {\n",
       "        vertical-align: top;\n",
       "    }\n",
       "\n",
       "    .dataframe thead th {\n",
       "        text-align: right;\n",
       "    }\n",
       "</style>\n",
       "<table border=\"1\" class=\"dataframe\">\n",
       "  <thead>\n",
       "    <tr style=\"text-align: right;\">\n",
       "      <th></th>\n",
       "      <th>Title</th>\n",
       "      <th>Category</th>\n",
       "      <th>Price</th>\n",
       "      <th>City</th>\n",
       "      <th>Availability</th>\n",
       "    </tr>\n",
       "  </thead>\n",
       "  <tbody>\n",
       "    <tr>\n",
       "      <th>0</th>\n",
       "      <td>Креветки Королевские 26/30 очищенные</td>\n",
       "      <td>Морепродукты</td>\n",
       "      <td>5 290 Т</td>\n",
       "      <td>Актау</td>\n",
       "      <td>В наличии</td>\n",
       "    </tr>\n",
       "    <tr>\n",
       "      <th>1</th>\n",
       "      <td>Креветка Королевская 31/40 очищенная</td>\n",
       "      <td>Морепродукты</td>\n",
       "      <td>5 900 Т</td>\n",
       "      <td>Актау</td>\n",
       "      <td>В наличии</td>\n",
       "    </tr>\n",
       "    <tr>\n",
       "      <th>2</th>\n",
       "      <td>Лангустины в панцире с головой, размер 21-30</td>\n",
       "      <td>Морепродукты</td>\n",
       "      <td>6 500 Т</td>\n",
       "      <td>Актау</td>\n",
       "      <td>В наличии</td>\n",
       "    </tr>\n",
       "    <tr>\n",
       "      <th>3</th>\n",
       "      <td>Морской Коктейль Стандарт 1 кг</td>\n",
       "      <td>Морепродукты</td>\n",
       "      <td>3 000 Т</td>\n",
       "      <td>Актау</td>\n",
       "      <td>В наличии</td>\n",
       "    </tr>\n",
       "    <tr>\n",
       "      <th>4</th>\n",
       "      <td>Креветка Королевская  21/25, в панцире без головы</td>\n",
       "      <td>Морепродукты</td>\n",
       "      <td>5 500 Т</td>\n",
       "      <td>Актау</td>\n",
       "      <td>В наличии</td>\n",
       "    </tr>\n",
       "    <tr>\n",
       "      <th>...</th>\n",
       "      <td>...</td>\n",
       "      <td>...</td>\n",
       "      <td>...</td>\n",
       "      <td>...</td>\n",
       "      <td>...</td>\n",
       "    </tr>\n",
       "    <tr>\n",
       "      <th>2812</th>\n",
       "      <td>Подарочная Упаковка масло Lorenzo №3</td>\n",
       "      <td>Масло</td>\n",
       "      <td>9 000 Т</td>\n",
       "      <td>Шымкент</td>\n",
       "      <td>В наличии</td>\n",
       "    </tr>\n",
       "    <tr>\n",
       "      <th>2813</th>\n",
       "      <td>Подарочная Коробка Barbera Lorenzo #1</td>\n",
       "      <td>Масло</td>\n",
       "      <td>9 000 Т</td>\n",
       "      <td>Шымкент</td>\n",
       "      <td>В наличии</td>\n",
       "    </tr>\n",
       "    <tr>\n",
       "      <th>2814</th>\n",
       "      <td>Сковорода для Паэльи  38 см</td>\n",
       "      <td>Кухня</td>\n",
       "      <td>9 000 Т</td>\n",
       "      <td>Шымкент</td>\n",
       "      <td>В наличии</td>\n",
       "    </tr>\n",
       "    <tr>\n",
       "      <th>2815</th>\n",
       "      <td>Чугунная Сковорода Гриль VAELLO</td>\n",
       "      <td>Кухня</td>\n",
       "      <td>12 500 Т</td>\n",
       "      <td>Шымкент</td>\n",
       "      <td>В наличии</td>\n",
       "    </tr>\n",
       "    <tr>\n",
       "      <th>2816</th>\n",
       "      <td>Чугунная Сковорода Круглая VAELLO</td>\n",
       "      <td>Кухня</td>\n",
       "      <td>13 000 Т</td>\n",
       "      <td>Шымкент</td>\n",
       "      <td>В наличии</td>\n",
       "    </tr>\n",
       "  </tbody>\n",
       "</table>\n",
       "<p>2817 rows × 5 columns</p>\n",
       "</div>"
      ],
      "text/plain": [
       "                                                  Title      Category  \\\n",
       "0                  Креветки Королевские 26/30 очищенные  Морепродукты   \n",
       "1                  Креветка Королевская 31/40 очищенная  Морепродукты   \n",
       "2          Лангустины в панцире с головой, размер 21-30  Морепродукты   \n",
       "3                        Морской Коктейль Стандарт 1 кг  Морепродукты   \n",
       "4     Креветка Королевская  21/25, в панцире без головы  Морепродукты   \n",
       "...                                                 ...           ...   \n",
       "2812               Подарочная Упаковка масло Lorenzo №3         Масло   \n",
       "2813              Подарочная Коробка Barbera Lorenzo #1         Масло   \n",
       "2814                        Сковорода для Паэльи  38 см         Кухня   \n",
       "2815                    Чугунная Сковорода Гриль VAELLO         Кухня   \n",
       "2816                  Чугунная Сковорода Круглая VAELLO         Кухня   \n",
       "\n",
       "         Price     City Availability  \n",
       "0      5 290 Т    Актау    В наличии  \n",
       "1      5 900 Т    Актау    В наличии  \n",
       "2      6 500 Т    Актау    В наличии  \n",
       "3      3 000 Т    Актау    В наличии  \n",
       "4      5 500 Т    Актау    В наличии  \n",
       "...        ...      ...          ...  \n",
       "2812   9 000 Т  Шымкент    В наличии  \n",
       "2813   9 000 Т  Шымкент    В наличии  \n",
       "2814   9 000 Т  Шымкент    В наличии  \n",
       "2815  12 500 Т  Шымкент    В наличии  \n",
       "2816  13 000 Т  Шымкент    В наличии  \n",
       "\n",
       "[2817 rows x 5 columns]"
      ]
     },
     "execution_count": 392,
     "metadata": {},
     "output_type": "execute_result"
    }
   ],
   "source": [
    "df"
   ]
  }
 ],
 "metadata": {
  "kernelspec": {
   "display_name": "Python 3",
   "language": "python",
   "name": "python3"
  },
  "language_info": {
   "codemirror_mode": {
    "name": "ipython",
    "version": 3
   },
   "file_extension": ".py",
   "mimetype": "text/x-python",
   "name": "python",
   "nbconvert_exporter": "python",
   "pygments_lexer": "ipython3",
   "version": "3.8.10"
  }
 },
 "nbformat": 4,
 "nbformat_minor": 5
}
